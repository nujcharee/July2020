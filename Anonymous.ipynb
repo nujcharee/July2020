{
 "cells": [
  {
   "cell_type": "code",
   "execution_count": 6,
   "metadata": {},
   "outputs": [],
   "source": [
    "# Load spaCy package\n",
    "\n",
    "import spacy\n",
    "nlp = spacy.load(\"en_core_web_sm\")"
   ]
  },
  {
   "cell_type": "code",
   "execution_count": 7,
   "metadata": {},
   "outputs": [],
   "source": [
    "text = ('French Prime Minister Edouard Philippe has tendered his resignation after'\n",
    "'heading President Emmanuel Macrons government for three years. The president swiftly'\n",
    "'named centre-right mayor Jean Castex to lead a new team of ministers after a reshuffle.' \n",
    "'Although Mr Philippe was considered more popular than the president, the ruling party had poor local election results at the weekend.'\n",
    "'President Macron promised a new path in an interview published on Friday.'\n",
    "'Mr Philippe met the president early in the morning and they agreed the government would resign.')\n",
    "\n",
    "# change text to spaCy doc object\n",
    "\n",
    "doc = nlp(text)"
   ]
  },
  {
   "cell_type": "code",
   "execution_count": 8,
   "metadata": {},
   "outputs": [
    {
     "name": "stdout",
     "output_type": "stream",
     "text": [
      "French NORP\n",
      "Edouard Philippe PERSON\n",
      "Emmanuel Macrons PERSON\n",
      "three years DATE\n",
      "Jean Castex PERSON\n",
      "Mr Philippe PERSON\n",
      "the weekend DATE\n",
      "Macron PERSON\n",
      "Friday DATE\n",
      "Philippe PERSON\n",
      "early in the morning TIME\n"
     ]
    }
   ],
   "source": [
    "# Find Entities\n",
    "for ent in doc.ents:\n",
    "    print(ent.text,ent.label_)"
   ]
  },
  {
   "cell_type": "code",
   "execution_count": 15,
   "metadata": {},
   "outputs": [],
   "source": [
    "\"\"\"Detect PERSON Entity and REPLACE WITH XXXX\n",
    "\n",
    "    Args:\n",
    "      text: a string of text\n",
    "\n",
    "    Returns:\n",
    "      text: original text replaced with XXXX where name\n",
    "\n",
    "    Raises:\n",
    "      ConnectionError: If no available port is found.\n",
    "    \"\"\"\n",
    "\n",
    "def anon_names(text):\n",
    "    \n",
    "    # text = df['text'].apply(lambda x: nlp(x))\n",
    "\n",
    "    doc = nlp(text)\n",
    "    anon_sentences = []\n",
    "    for ent in doc.ents:\n",
    "        ent.merge()\n",
    "    for token in doc:\n",
    "        if token.ent_type_ == 'PERSON':\n",
    "            anon_sentences.append(\"[XXXX] \")\n",
    "        else:\n",
    "            anon_sentences.append(token.string)\n",
    "    return \"\".join(anon_sentences)"
   ]
  },
  {
   "cell_type": "code",
   "execution_count": 16,
   "metadata": {},
   "outputs": [
    {
     "data": {
      "text/plain": [
       "'French Prime Minister [XXXX] has tendered his resignation afterheading President [XXXX] government for three years. The president swiftlynamed centre-right mayor [XXXX] to lead a new team of ministers after a reshuffle.Although [XXXX] was considered more popular than the president, the ruling party had poor local election results at the weekend.President [XXXX] promised a new path in an interview published on Friday.Mr [XXXX] met the president early in the morning and they agreed the government would resign.'"
      ]
     },
     "execution_count": 16,
     "metadata": {},
     "output_type": "execute_result"
    }
   ],
   "source": [
    "anon_names(text)"
   ]
  },
  {
   "cell_type": "code",
   "execution_count": null,
   "metadata": {},
   "outputs": [],
   "source": []
  }
 ],
 "metadata": {
  "kernelspec": {
   "display_name": "Python 3",
   "language": "python",
   "name": "python3"
  },
  "language_info": {
   "codemirror_mode": {
    "name": "ipython",
    "version": 3
   },
   "file_extension": ".py",
   "mimetype": "text/x-python",
   "name": "python",
   "nbconvert_exporter": "python",
   "pygments_lexer": "ipython3",
   "version": "3.7.4"
  }
 },
 "nbformat": 4,
 "nbformat_minor": 2
}
